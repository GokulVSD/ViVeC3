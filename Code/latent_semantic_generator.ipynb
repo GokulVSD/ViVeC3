{
 "cells": [
  {
   "cell_type": "code",
   "execution_count": 1,
   "metadata": {},
   "outputs": [],
   "source": [
    "FEATURE_SPACE = input(\"Provide a feature space [color, hog, avgpool, layer3, fc, resnet].\")\n",
    "\n",
    "DIM_REDUCTION = input(\"Provide a dimensionality reduction technique [svd, nnmf, lda, kmeans].\")\n",
    "\n",
    "K = int(input(\"Enter K, the top K latent semantics to extract for the selected feature space.\"))"
   ]
  },
  {
   "cell_type": "code",
   "execution_count": 2,
   "metadata": {},
   "outputs": [
    {
     "name": "stdout",
     "output_type": "stream",
     "text": [
      "Generating top- 5  latent semantics under  resnet  feature space using:  svd\n"
     ]
    }
   ],
   "source": [
    "from utils.database_utils import retrieve\n",
    "feature_vectors = retrieve(f'{FEATURE_SPACE}.pt')\n",
    "\n",
    "print(\"Generating top-\", K, \" latent semantics under \", FEATURE_SPACE, \" feature space using: \", DIM_REDUCTION)"
   ]
  },
  {
   "cell_type": "code",
   "execution_count": 3,
   "metadata": {},
   "outputs": [],
   "source": [
    "if DIM_REDUCTION == \"svd\":\n",
    "    from feature_reducers.svd import SVDReducer\n",
    "    reducer = SVDReducer\n",
    "\n",
    "elif DIM_REDUCTION == \"nnmf\":\n",
    "    from feature_reducers.nnmf import NNMFReducer\n",
    "    reducer = NNMFReducer\n",
    "\n",
    "elif DIM_REDUCTION == \"lda\":\n",
    "    from feature_reducers.lda import LDAReducer\n",
    "    reducer = LDAReducer\n",
    "\n",
    "else:\n",
    "    # kmeans.\n",
    "    from feature_reducers.kmeans import KMeansReducer\n",
    "    reducer = KMeansReducer\n",
    "\n",
    "reducer = reducer(feature_vectors, K)\n",
    "\n",
    "similarity_matrix = reducer.get_similarity_matrix(feature_vectors)"
   ]
  },
  {
   "cell_type": "code",
   "execution_count": 4,
   "metadata": {},
   "outputs": [
    {
     "name": "stdout",
     "output_type": "stream",
     "text": [
      "\n",
      " Saving:  LS1_resnet_5_svd_reducer.pt \n",
      "\n"
     ]
    }
   ],
   "source": [
    "# Store the latent semantics in a properly named file.\n",
    "# We opt to store just the reducer, as we anyway can generate the latent space quickly\n",
    "# by loading the feature space and passing it to the reducer, eg:\n",
    "#\n",
    "# unpicked_reducer = retrieve(f'LS1_color_svd_reducer.pt')\n",
    "# feature_vectors = retrieve(f'color.pt')\n",
    "#\n",
    "# unpickled_reducer.reduce_features(feature_vectors)\n",
    "\n",
    "from utils.database_utils import store\n",
    "\n",
    "store(reducer, f'LS1_{FEATURE_SPACE}_{K}_{DIM_REDUCTION}_reducer.pt')"
   ]
  }
 ],
 "metadata": {
  "kernelspec": {
   "display_name": "Python 3 (ipykernel)",
   "language": "python",
   "name": "python3"
  },
  "language_info": {
   "codemirror_mode": {
    "name": "ipython",
    "version": 3
   },
   "file_extension": ".py",
   "mimetype": "text/x-python",
   "name": "python",
   "nbconvert_exporter": "python",
   "pygments_lexer": "ipython3",
   "version": "3.11.4"
  }
 },
 "nbformat": 4,
 "nbformat_minor": 4
}
