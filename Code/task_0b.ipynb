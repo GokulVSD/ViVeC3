{
 "cells": [
  {
   "cell_type": "markdown",
   "metadata": {},
   "source": [
    "    Instructions:\n",
    "    1. Press Run All (or restart kernel and run all cells).\n",
    "    2. You will be prompted to provide input values.\n",
    "\n",
    "\n",
    "    Task 0b: Implement a program which computes and prints the “inherent dimensionality” associated with each unique label of the even numbered Caltec101 images."
   ]
  },
  {
   "cell_type": "code",
   "execution_count": 1,
   "metadata": {},
   "outputs": [],
   "source": [
    "FEATURE_SPACE = input(\"Provide a feature space [color, hog, avgpool, layer3, fc, resnet].\")"
   ]
  },
  {
   "cell_type": "code",
   "execution_count": 2,
   "metadata": {},
   "outputs": [
    {
     "name": "stdout",
     "output_type": "stream",
     "text": [
      "Finding inherent dimensionality of each label under  resnet  feature space.\n",
      "Downloading dataset if not present.\n",
      "Files already downloaded and verified\n"
     ]
    }
   ],
   "source": [
    "from utils.database_utils import retrieve\n",
    "\n",
    "feature_vectors = retrieve(f'{FEATURE_SPACE}.pt')\n",
    "\n",
    "print(\"Finding inherent dimensionality of each label under \", FEATURE_SPACE, \" feature space.\")\n",
    "\n",
    "from utils.dataset_utils import initialize_dataset\n",
    "\n",
    "dataset = initialize_dataset()\n",
    "\n",
    "all_labels = dataset.categories\n",
    "\n",
    "from utils.vector_utils import get_vectors_for_labels\n",
    "\n",
    "label_vectors = get_vectors_for_labels(feature_vectors, all_labels)"
   ]
  },
  {
   "cell_type": "code",
   "execution_count": 3,
   "metadata": {},
   "outputs": [
    {
     "name": "stdout",
     "output_type": "stream",
     "text": [
      "--------- Per-label Inherent Dimensionality Results for Feature Space: resnet ---------- \n",
      "\n"
     ]
    },
    {
     "name": "stderr",
     "output_type": "stream",
     "text": [
      "/Users/gokulvsd/repos/Multimedia_Web_Databases_G15/Code/feature_reducers/svd.py:35: RuntimeWarning: invalid value encountered in sqrt\n",
      "  Lambda = sqrt(sort(Lambda_DT_D)[::-1])\n"
     ]
    },
    {
     "name": "stdout",
     "output_type": "stream",
     "text": [
      "Label: Faces          \tInherent Dimensionality: 20\t% Variance explained: 93.7833175409888\n",
      "Label: Faces_easy     \tInherent Dimensionality: 14\t% Variance explained: 93.93544403581406\n",
      "Label: Leopards       \tInherent Dimensionality: 11\t% Variance explained: 96.16377861152341\n",
      "Label: Motorbikes     \tInherent Dimensionality: 21\t% Variance explained: 94.62915956973364\n",
      "Label: accordion      \tInherent Dimensionality: 4\t% Variance explained: 86.65468361152371\n",
      "Label: airplanes      \tInherent Dimensionality: 21\t% Variance explained: 93.55846092960468\n",
      "Label: anchor         \tInherent Dimensionality: 4\t% Variance explained: 80.61745075581933\n",
      "Label: ant            \tInherent Dimensionality: 5\t% Variance explained: 85.77002640589951\n",
      "Label: barrel         \tInherent Dimensionality: 3\t% Variance explained: 75.95182211362378\n",
      "Label: bass           \tInherent Dimensionality: 9\t% Variance explained: 92.65954897077754\n",
      "Label: beaver         \tInherent Dimensionality: 4\t% Variance explained: 82.14754446080023\n",
      "Label: binocular      \tInherent Dimensionality: 3\t% Variance explained: 81.1567979497067\n",
      "Label: bonsai         \tInherent Dimensionality: 8\t% Variance explained: 86.96656473074373\n",
      "Label: brain          \tInherent Dimensionality: 6\t% Variance explained: 84.53058493794636\n",
      "Label: brontosaurus   \tInherent Dimensionality: 5\t% Variance explained: 84.10253547602764\n",
      "Label: buddha         \tInherent Dimensionality: 5\t% Variance explained: 86.2646860454839\n",
      "Label: butterfly      \tInherent Dimensionality: 4\t% Variance explained: 79.1862186062142\n",
      "Label: camera         \tInherent Dimensionality: 6\t% Variance explained: 91.1603984542647\n",
      "Label: cannon         \tInherent Dimensionality: 4\t% Variance explained: 83.70395310997414\n",
      "Label: car_side       \tInherent Dimensionality: 2\t% Variance explained: 93.40166719142096\n",
      "Label: ceiling_fan    \tInherent Dimensionality: 3\t% Variance explained: 82.33760214175348\n",
      "Label: cellphone      \tInherent Dimensionality: 1\t% Variance explained: 75.40692848600258\n",
      "Label: chair          \tInherent Dimensionality: 7\t% Variance explained: 87.48581228249445\n",
      "Label: chandelier     \tInherent Dimensionality: 5\t% Variance explained: 81.80430729152954\n",
      "Label: cougar_body    \tInherent Dimensionality: 4\t% Variance explained: 85.18774375170288\n",
      "Label: cougar_face    \tInherent Dimensionality: 9\t% Variance explained: 95.22003192912486\n",
      "Label: crab           \tInherent Dimensionality: 9\t% Variance explained: 89.7984902902913\n",
      "Label: crayfish       \tInherent Dimensionality: 3\t% Variance explained: 78.020239319514\n",
      "Label: crocodile      \tInherent Dimensionality: 5\t% Variance explained: 87.1322474810521\n",
      "Label: crocodile_head \tInherent Dimensionality: 3\t% Variance explained: 79.3561943415005\n",
      "Label: cup            \tInherent Dimensionality: 5\t% Variance explained: 86.5220868414756\n",
      "Label: dalmatian      \tInherent Dimensionality: 3\t% Variance explained: 80.75113514912643\n",
      "Label: dollar_bill    \tInherent Dimensionality: 3\t% Variance explained: 89.19062830215863\n",
      "Label: dolphin        \tInherent Dimensionality: 3\t% Variance explained: 78.91105669546026\n",
      "Label: dragonfly      \tInherent Dimensionality: 3\t% Variance explained: 76.73054097546307\n",
      "Label: electric_guitar\tInherent Dimensionality: 5\t% Variance explained: 85.00116430102473\n",
      "Label: elephant       \tInherent Dimensionality: 4\t% Variance explained: 85.32278152042036\n",
      "Label: emu            \tInherent Dimensionality: 2\t% Variance explained: 80.29570915533178\n",
      "Label: euphonium      \tInherent Dimensionality: 3\t% Variance explained: 86.01539528128271\n",
      "Label: ewer           \tInherent Dimensionality: 5\t% Variance explained: 89.00384993960881\n",
      "Label: ferry          \tInherent Dimensionality: 2\t% Variance explained: 83.86450159466679\n",
      "Label: flamingo       \tInherent Dimensionality: 5\t% Variance explained: 86.80497023766567\n",
      "Label: flamingo_head  \tInherent Dimensionality: 5\t% Variance explained: 87.68936526083253\n",
      "Label: garfield       \tInherent Dimensionality: 3\t% Variance explained: 91.16841047681012\n",
      "Label: gerenuk        \tInherent Dimensionality: 3\t% Variance explained: 85.97737785041095\n",
      "Label: gramophone     \tInherent Dimensionality: 3\t% Variance explained: 78.9028147071296\n",
      "Label: grand_piano    \tInherent Dimensionality: 4\t% Variance explained: 89.86444612969152\n",
      "Label: hawksbill      \tInherent Dimensionality: 5\t% Variance explained: 90.67433282876307\n",
      "Label: headphone      \tInherent Dimensionality: 1\t% Variance explained: 76.38301775051023\n",
      "Label: hedgehog       \tInherent Dimensionality: 4\t% Variance explained: 87.3729255406045\n",
      "Label: helicopter     \tInherent Dimensionality: 4\t% Variance explained: 81.41157806832375\n",
      "Label: ibis           \tInherent Dimensionality: 6\t% Variance explained: 89.26682018981678\n",
      "Label: inline_skate   \tInherent Dimensionality: 2\t% Variance explained: 81.97544711817328\n",
      "Label: joshua_tree    \tInherent Dimensionality: 6\t% Variance explained: 92.48129059746168\n",
      "Label: kangaroo       \tInherent Dimensionality: 6\t% Variance explained: 87.58101575790651\n",
      "Label: ketch          \tInherent Dimensionality: 5\t% Variance explained: 92.64513758560453\n",
      "Label: lamp           \tInherent Dimensionality: 7\t% Variance explained: 88.81263839070219\n",
      "Label: laptop         \tInherent Dimensionality: 4\t% Variance explained: 90.16451697194196\n",
      "Label: llama          \tInherent Dimensionality: 7\t% Variance explained: 87.56291364389334\n",
      "Label: lobster        \tInherent Dimensionality: 3\t% Variance explained: 81.32482555857578\n",
      "Label: lotus          \tInherent Dimensionality: 3\t% Variance explained: 84.35852543692799\n",
      "Label: mandolin       \tInherent Dimensionality: 3\t% Variance explained: 83.04374941933949\n",
      "Label: mayfly         \tInherent Dimensionality: 2\t% Variance explained: 78.71569138679638\n",
      "Label: menorah        \tInherent Dimensionality: 5\t% Variance explained: 83.19580626220089\n",
      "Label: metronome      \tInherent Dimensionality: 4\t% Variance explained: 84.65547872893684\n",
      "Label: minaret        \tInherent Dimensionality: 3\t% Variance explained: 84.40977925043758\n",
      "Label: nautilus       \tInherent Dimensionality: 3\t% Variance explained: 87.50508480131003\n",
      "Label: octopus        \tInherent Dimensionality: 2\t% Variance explained: 72.79171454202996\n",
      "Label: okapi          \tInherent Dimensionality: 2\t% Variance explained: 82.47400126075412\n",
      "Label: pagoda         \tInherent Dimensionality: 3\t% Variance explained: 85.1398154976875\n",
      "Label: panda          \tInherent Dimensionality: 4\t% Variance explained: 85.12245274319714\n",
      "Label: pigeon         \tInherent Dimensionality: 4\t% Variance explained: 86.11813910192221\n",
      "Label: pizza          \tInherent Dimensionality: 3\t% Variance explained: 78.00522566158196\n",
      "Label: platypus       \tInherent Dimensionality: 5\t% Variance explained: 88.34449393257354\n",
      "Label: pyramid        \tInherent Dimensionality: 3\t% Variance explained: 82.07191819464295\n",
      "Label: revolver       \tInherent Dimensionality: 5\t% Variance explained: 88.94143188033215\n",
      "Label: rhino          \tInherent Dimensionality: 2\t% Variance explained: 83.97976354375311\n",
      "Label: rooster        \tInherent Dimensionality: 5\t% Variance explained: 87.63828328968279\n",
      "Label: saxophone      \tInherent Dimensionality: 5\t% Variance explained: 89.1604775671014\n",
      "Label: schooner       \tInherent Dimensionality: 4\t% Variance explained: 93.41683078239896\n",
      "Label: scissors       \tInherent Dimensionality: 1\t% Variance explained: 76.65751181632295\n",
      "Label: scorpion       \tInherent Dimensionality: 10\t% Variance explained: 91.91594205169538\n",
      "Label: sea_horse      \tInherent Dimensionality: 3\t% Variance explained: 75.00845763256396\n",
      "Label: snoopy         \tInherent Dimensionality: 2\t% Variance explained: 84.78367250323144\n",
      "Label: soccer_ball    \tInherent Dimensionality: 5\t% Variance explained: 91.58627547243968\n",
      "Label: stapler        \tInherent Dimensionality: 2\t% Variance explained: 79.99670345452581\n",
      "Label: starfish       \tInherent Dimensionality: 4\t% Variance explained: 83.73278723854212\n",
      "Label: stegosaurus    \tInherent Dimensionality: 5\t% Variance explained: 84.22009822555111\n",
      "Label: stop_sign      \tInherent Dimensionality: 5\t% Variance explained: 89.1675482225385\n",
      "Label: strawberry     \tInherent Dimensionality: 5\t% Variance explained: 89.93631500566318\n",
      "Label: sunflower      \tInherent Dimensionality: 4\t% Variance explained: 87.99867895041646\n",
      "Label: tick           \tInherent Dimensionality: 3\t% Variance explained: 88.53254950223157\n",
      "Label: trilobite      \tInherent Dimensionality: 6\t% Variance explained: 89.38631440287293\n",
      "Label: umbrella       \tInherent Dimensionality: 4\t% Variance explained: 79.48491575575287\n",
      "Label: watch          \tInherent Dimensionality: 17\t% Variance explained: 92.18826266989379\n",
      "Label: water_lilly    \tInherent Dimensionality: 3\t% Variance explained: 86.29968893947728\n",
      "Label: wheelchair     \tInherent Dimensionality: 3\t% Variance explained: 81.37854255762669\n",
      "Label: wild_cat       \tInherent Dimensionality: 4\t% Variance explained: 87.4966842375166\n",
      "Label: windsor_chair  \tInherent Dimensionality: 1\t% Variance explained: 85.24553073312634\n",
      "Label: wrench         \tInherent Dimensionality: 3\t% Variance explained: 84.21457397188277\n",
      "Label: yin_yang       \tInherent Dimensionality: 1\t% Variance explained: 75.62758641446707\n"
     ]
    }
   ],
   "source": [
    "from utils.vector_utils import get_img_ids_and_vectors\n",
    "\n",
    "from feature_reducers.svd import SVDReducer\n",
    "\n",
    "from utils.query_input_processor import align_print\n",
    "\n",
    "import numpy as np\n",
    "\n",
    "from kneed import KneeLocator\n",
    "\n",
    "max_label_len = max([len(label) for label in all_labels])\n",
    "\n",
    "print(f\"--------- Per-label Inherent Dimensionality Results for Feature Space: {FEATURE_SPACE} ---------- \\n\")\n",
    "\n",
    "for label_idx, (label, img_vectors) in enumerate(label_vectors.items()):\n",
    "    img_ids, vectors = get_img_ids_and_vectors(img_vectors)\n",
    "\n",
    "    svd = SVDReducer(vectors, len(vectors[0]))\n",
    "\n",
    "    S = np.diag(svd.S)\n",
    "\n",
    "    kneeLocator = KneeLocator(x=list(range(len(S))), y=S, curve=\"convex\", direction=\"decreasing\", S=3.0)\n",
    "\n",
    "    inherent_dim = kneeLocator.elbow\n",
    "\n",
    "    vectors_hat = svd.U[:,:inherent_dim] @ svd.S[0:inherent_dim,:inherent_dim] @ svd.V.T[:inherent_dim,:]\n",
    "    resid = abs(vectors - vectors_hat)\n",
    "\n",
    "    print(f\"Label: {align_print(label, max_label_len)}\\tInherent Dimensionality: {inherent_dim}\\t% Variance explained: {(1 - np.var(resid)/np.var(vectors))*100}\")"
   ]
  }
 ],
 "metadata": {
  "kernelspec": {
   "display_name": "Python 3.9.0 64-bit",
   "language": "python",
   "name": "python3"
  },
  "language_info": {
   "codemirror_mode": {
    "name": "ipython",
    "version": 3
   },
   "file_extension": ".py",
   "mimetype": "text/x-python",
   "name": "python",
   "nbconvert_exporter": "python",
   "pygments_lexer": "ipython3",
   "version": "3.11.5"
  },
  "vscode": {
   "interpreter": {
    "hash": "f8d3d2abe64cf83cf7b2fa811cc5bb3879952464b659d7304b0f89b6ca2e372a"
   }
  }
 },
 "nbformat": 4,
 "nbformat_minor": 4
}
